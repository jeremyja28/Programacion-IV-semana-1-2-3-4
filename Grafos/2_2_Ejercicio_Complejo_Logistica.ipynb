{
 "cells": [
  {
   "cell_type": "markdown",
   "metadata": {},
   "source": [
    "## 🧠 Ejercicio Avanzado: Planificación de Rutas de Entrega\n",
    "\n",
    "Una empresa de logística realiza entregas entre distintas ciudades del Ecuador. Las ciudades están conectadas por rutas con costos asociados que representan el **precio del combustible + peajes** en USD. El gerente desea conocer la **ruta más económica** para enviar mercancía desde **Ibarra** hasta **Loja**, pasando por al menos una ciudad costera.\n",
    "\n",
    "### 📍 Ciudades:\n",
    "- Ibarra\n",
    "- Quito\n",
    "- Santo Domingo\n",
    "- Manta (costera)\n",
    "- Portoviejo (costera)\n",
    "- Guayaquil (costera)\n",
    "- Cuenca\n",
    "- Loja\n",
    "\n",
    "### 🛣️ Conexiones y costos (USD):\n",
    "- Ibarra → Quito: 10\n",
    "- Quito → Santo Domingo: 15\n",
    "- Quito → Manta: 30\n",
    "- Santo Domingo → Manta: 12\n",
    "- Manta → Portoviejo: 5\n",
    "- Portoviejo → Guayaquil: 20\n",
    "- Guayaquil → Cuenca: 25\n",
    "- Cuenca → Loja: 18\n",
    "- Quito → Cuenca: 35\n",
    "- Santo Domingo → Guayaquil: 22\n",
    "- Guayaquil → Loja: 40\n",
    "\n",
    "---\n",
    "### 🎯 Objetivos del estudiante\n",
    "- Representar el grafo dirigido y ponderado.\n",
    "- Visualizar el grafo con `networkx`.\n",
    "- Usar `dijkstra_path` para determinar el **camino más económico desde Ibarra hasta Loja**, verificando que **pase por al menos una ciudad costera** (`Manta`, `Portoviejo`, o `Guayaquil`).\n",
    "- Mostrar el recorrido y el costo total.\n",
    "\n",
    "💡 *Sugerencia:* Puedes comprobar si una ciudad costera está incluida en el camino usando una intersección de conjuntos en Python."
   ]
  },
  {
   "cell_type": "markdown",
   "id": "91588021",
   "metadata": {},
   "source": [
    "## Rúbrica de Evaluación: Ejercicio de Logística con Grafos\n",
    "\n",
    "| Criterio Evaluado                                                                 | Puntaje Máximo |\n",
    "|----------------------------------------------------------------------------------|----------------|\n",
    "| Creación correcta del grafo con nodos y aristas                              | 20 puntos      |\n",
    "| Asignación correcta de pesos (costos) a todas las conexiones                 | 15 puntos      |\n",
    "| Visualización clara y bien etiquetada del grafo usando `networkx` y `matplotlib` | 20 puntos      |\n",
    "| Cálculo correcto del camino más barato con `dijkstra_path`                   | 15 puntos      |\n",
    "| Verificación de que el camino pase por al menos una ciudad costera          | 10 puntos      |\n",
    "| Interpretación correcta del resultado (camino y costo total)                 | 10 puntos      |\n",
    "| Claridad del código, comentarios y estilo                                    | 10 puntos      |\n",
    "| **Total**                                                                       | **100 puntos** |\n",
    "\n",
    "**Nota:** Se valorará la creatividad, la correcta identificación de ciudades, el uso adecuado de funciones de `networkx` y la legibilidad del código.\n"
   ]
  }
 ],
 "metadata": {
  "kernelspec": {
   "display_name": "base",
   "language": "python",
   "name": "python3"
  },
  "language_info": {
   "codemirror_mode": {
    "name": "ipython",
    "version": 3
   },
   "file_extension": ".py",
   "mimetype": "text/x-python",
   "name": "python",
   "nbconvert_exporter": "python",
   "pygments_lexer": "ipython3",
   "version": "3.11.5"
  }
 },
 "nbformat": 4,
 "nbformat_minor": 5
}
