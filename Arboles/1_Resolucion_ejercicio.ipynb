{
 "cells": [
  {
   "cell_type": "markdown",
   "id": "cc5559f8",
   "metadata": {},
   "source": [
    "# 📘 Árbol de Expresión: ((8 / 2) + (3 * 4))"
   ]
  },
  {
   "cell_type": "markdown",
   "id": "0ef26709",
   "metadata": {},
   "source": [
    "\n",
    "Este ejercicio representa la expresión aritmética `((8 / 2) + (3 * 4))` mediante un **árbol binario de expresión**.\n",
    "Cada nodo interno es un operador (`+`, `/`, `*`) y cada hoja es un operando (número).\n"
   ]
  },
  {
   "cell_type": "code",
   "execution_count": 1,
   "id": "eed15dda",
   "metadata": {},
   "outputs": [
    {
     "data": {
      "image/png": "[encoded data removed]",
      "text/plain": [
       "<Figure size 1000x500 with 1 Axes>"
      ]
     },
     "metadata": {},
     "output_type": "display_data"
    }
   ],
   "source": [
    "\n",
    "# Importamos las bibliotecas necesarias\n",
    "import matplotlib.pyplot as plt\n",
    "import networkx as nx\n",
    "\n",
    "# Creamos un nuevo grafo dirigido (DiGraph)\n",
    "G = nx.DiGraph()\n",
    "\n",
    "# Definimos las conexiones entre nodos (estructura del árbol)\n",
    "edges = [\n",
    "    ('+', '/'),    # '+' tiene como hijo izquierdo '/'\n",
    "    ('+', '*'),    # '+' tiene como hijo derecho '*'\n",
    "    ('/', '8'),    # '/' tiene como hijo izquierdo '8'\n",
    "    ('/', '2'),    # '/' tiene como hijo derecho '2'\n",
    "    ('*', '3'),    # '*' tiene como hijo izquierdo '3'\n",
    "    ('*', '4')     # '*' tiene como hijo derecho '4'\n",
    "]\n",
    "\n",
    "# Agregamos las aristas al grafo\n",
    "G.add_edges_from(edges)\n",
    "\n",
    "# Definimos las posiciones para una visualización jerárquica\n",
    "pos = {\n",
    "    '+': (0, 2),     # Raíz\n",
    "    '/': (-1.5, 1),  # Hijo izquierdo de '+'\n",
    "    '*': (1.5, 1),   # Hijo derecho de '+'\n",
    "    '8': (-2, 0),    # Hijo izquierdo de '/'\n",
    "    '2': (-1, 0),    # Hijo derecho de '/'\n",
    "    '3': (1, 0),     # Hijo izquierdo de '*'\n",
    "    '4': (2, 0)      # Hijo derecho de '*'\n",
    "}\n",
    "\n",
    "# Dibujamos el árbol\n",
    "plt.figure(figsize=(10, 5))\n",
    "nx.draw(\n",
    "    G, pos,\n",
    "    with_labels=True,\n",
    "    node_color='lightblue',\n",
    "    node_size=2000,\n",
    "    font_size=14,\n",
    "    font_weight='bold',\n",
    "    arrows=True\n",
    ")\n",
    "plt.title(\"Árbol de expresión: ((8 / 2) + (3 * 4))\")\n",
    "plt.axis('off')\n",
    "plt.show()\n"
   ]
  },
  {
   "cell_type": "code",
   "execution_count": 2,
   "id": "6191ec80",
   "metadata": {},
   "outputs": [
    {
     "data": {
      "text/plain": [
       "16.0"
      ]
     },
     "execution_count": 2,
     "metadata": {},
     "output_type": "execute_result"
    }
   ],
   "source": [
    "\n",
    "# Evaluación de la expresión ((8 / 2) + (3 * 4)) usando árbol binario\n",
    "\n",
    "class Nodo:\n",
    "    def __init__(self, valor):\n",
    "        self.valor = valor\n",
    "        self.izq = None\n",
    "        self.der = None\n",
    "\n",
    "def construir_arbol():\n",
    "    raiz = Nodo('+')\n",
    "    raiz.izq = Nodo('/')\n",
    "    raiz.der = Nodo('*')\n",
    "    raiz.izq.izq = Nodo(8)\n",
    "    raiz.izq.der = Nodo(2)\n",
    "    raiz.der.izq = Nodo(3)\n",
    "    raiz.der.der = Nodo(4)\n",
    "    return raiz\n",
    "\n",
    "def evaluar(nodo):\n",
    "    if isinstance(nodo.valor, int):\n",
    "        return nodo.valor\n",
    "    izq = evaluar(nodo.izq)\n",
    "    der = evaluar(nodo.der)\n",
    "    if nodo.valor == '+':\n",
    "        return izq + der\n",
    "    elif nodo.valor == '-':\n",
    "        return izq - der\n",
    "    elif nodo.valor == '*':\n",
    "        return izq * der\n",
    "    elif nodo.valor == '/':\n",
    "        return izq / der\n",
    "\n",
    "# Construimos y evaluamos el árbol\n",
    "arbol = construir_arbol()\n",
    "resultado = evaluar(arbol)\n",
    "resultado\n"
   ]
  }
 ],
 "metadata": {
  "kernelspec": {
   "display_name": "Python 3",
   "language": "python",
   "name": "python3"
  },
  "language_info": {
   "codemirror_mode": {
    "name": "ipython",
    "version": 3
   },
   "file_extension": ".py",
   "mimetype": "text/x-python",
   "name": "python",
   "nbconvert_exporter": "python",
   "pygments_lexer": "ipython3",
   "version": "3.11.9"
  }
 },
 "nbformat": 4,
 "nbformat_minor": 5
}
